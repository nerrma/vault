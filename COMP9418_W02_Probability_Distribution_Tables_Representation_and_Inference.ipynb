{
  "cells": [
    {
      "cell_type": "markdown",
      "metadata": {
        "id": "-m_TWeww3RXM"
      },
      "source": [
        "[![Open In Colab](https://colab.research.google.com/assets/colab-badge.svg)](https://colab.research.google.com/github/UNSW-COMP9418/Week02/blob/main/COMP9418_W02_Probability_Distribution_Tables_Representation_and_Inference.ipynb)\n",
        "\n",
        "## Probability Distribution Tables Representation and Inference\n",
        "\n",
        "**COMP9418-19T3, W02 Tutorial**\n",
        "\n",
        "- Instructor: Gustavo Batista\n",
        "- School of Computer Science and Engineering, UNSW Sydney\n",
        "- Notebook designed by Gustavo Batista and Jeremy Gillen\n",
        "- Last update 17th September 2022"
      ]
    },
    {
      "cell_type": "markdown",
      "metadata": {
        "id": "M2JMh2lZ3RXO"
      },
      "source": [
        "In this week's tutorial, we will design a data structure for probability table representation and implement four operations over this representation. This code will be used in the next tutorials to perform inference and learning over graphical models."
      ]
    },
    {
      "cell_type": "markdown",
      "metadata": {
        "id": "zixZmjVt3RXP"
      },
      "source": [
        "## Technical prerequisites\n",
        "\n",
        "We will use Jupyter Notebooks in the practical part of the tutorials. There are three main ways to run these notebooks:\n",
        "\n",
        "1. *Google Colab*. The links available in WebCMS will open the course notebooks in [Google Colab](https://colab.research.google.com/). Google Colab has all the packages necessary to run these notebooks, so no installation is required. **This is our prefered approach**.\n",
        "\n",
        "2. *CSE VLAB*. We have installed the necessary packages in the CSE computers. You have to copy the notebook to your CSE account in VLAB to execute them. There are two possibilities to access VLAB. The most recommended is installing a [VNC software](https://taggi.cse.unsw.edu.au/FAQ/Really_quick_guide_to_VLAB/) in your computer. Alternatively, you can access these computers through a web interface using [CSE VLAB Gateway](https://vlabgateway.cse.unsw.edu.au/).\n",
        "\n",
        "3. *Your computer*. If you do not have Jupyter installed in your computer, we recommend installing [Anaconda](https://www.anaconda.com/distribution). Anaconda conveniently installs Python, the Jupyter Notebook, and other commonly used packages for scientific computing and data science. To render a graphical visualization of some graphs in this notebook, you also need to [install Graphviz](http://www.graphviz.org/download). If you have conda installed in your computer, you can try the command ```conda install python-graphviz``` directly. From our experience, Graphviz is a little troublesome to install in some systems. For instance, ```conda install python-graphviz``` often does not work on Linux systems and we did not have any success using ```pip3 install graphviz``` on most systems, so do *not* use ```pip3```.\n",
        "You will need specific packages installed to run this notebook.\n",
        "We will use the [tabulate](https://pypi.org/project/tabulate/) library to print probability tables for debugging. If you don't have it installed, use the command ```pip install tabulate```."
      ]
    },
    {
      "cell_type": "markdown",
      "metadata": {
        "id": "FweTEzsS3RXQ"
      },
      "source": [
        "Let's import some useful modules for later use."
      ]
    },
    {
      "cell_type": "code",
      "execution_count": 2,
      "metadata": {
        "scrolled": true,
        "id": "Ii1KF5Jm3RXQ"
      },
      "outputs": [],
      "source": [
        "# combinatorics\n",
        "from itertools import product\n",
        "# table formating for screen output\n",
        "from tabulate import tabulate\n",
        "# numpy is used for n-dimensional arrays\n",
        "import numpy as np\n",
        "import copy"
      ]
    },
    {
      "cell_type": "markdown",
      "metadata": {
        "id": "ceQjdvMv3RXR"
      },
      "source": [
        "## Representing probability tables\n",
        "\n",
        "We will represent the distributions of discrete variables using probability tables. For example, here are 3 random variables, $X$, $Y$, and $Z$, each on $\\{0,1\\}$.\n",
        "\n",
        "  | X | Y | Z | p(X,Y,Z) |\n",
        "  |---|---|---|----------|\n",
        "  | 0 | 0 | 0 | 0 | \n",
        "  | 0 | 0 | 1 | 1/12 | \n",
        "  | 0 | 1 | 0 | 1/12 | \n",
        "  | 0 | 1 | 1 | 1/6 | \n",
        "  | 1 | 0 | 0 | 1/12 | \n",
        "  | 1 | 0 | 1 | 1/6 | \n",
        "  | 1 | 1 | 0 | 1/6 | \n",
        "  | 1 | 1 | 1 | 1/4 | \n",
        "\n",
        "Another example is a table that represents a conditional distribution for, say, $p(Z|X,Y)$.\n",
        "\n",
        "  | X | Y | Z | p(Z &#124; X,Y)        |\n",
        "  |---|---|---|---------------------------|\n",
        "  | 0 | 0 | 0 | 0 | \n",
        "  | 0 | 0 | 1 | 1 | \n",
        "  | 0 | 1 | 0 | 1/3 | \n",
        "  | 0 | 1 | 1 | 2/3 | \n",
        "  | 1 | 0 | 0 | 1/3 | \n",
        "  | 1 | 0 | 1 | 2/3 | \n",
        "  | 1 | 1 | 0 | 2/5 | \n",
        "  | 1 | 1 | 1 | 3/5 | \n",
        "\n",
        "We will use the term **factor** to denote a probability table, joint or conditional. \n",
        "\n",
        "The natural question is how we represent tables like these in Python. We should note that to define a factor table completely, we need to specify three pieces of information:\n",
        "\n",
        "1. The domain of the factor, i.e., which variables belong to the factor;\n",
        "\n",
        "2. The outcome space of each variable, i.e, the possible values of each random variable.\n",
        "\n",
        "3. The probabilities associated with each possible combination of variables values in the factor domain.\n",
        "\n",
        "We can create a python class to store this information, and create methods for getting and setting individual probabilities.\n",
        "\n",
        "We will use the methods `__getitem__` and `__setitem__` to access and set probabilities in this class. You can see more about these special methods [here](https://docs.python.org/3/reference/datamodel.html#emulating-container-types). These will allow us to use square brackets to access the probabilities of the factor, similar to how you access elements of a list or numpy array."
      ]
    },
    {
      "cell_type": "code",
      "execution_count": 3,
      "metadata": {
        "id": "H3T9Zvje3RXS"
      },
      "outputs": [],
      "source": [
        "class Factor:\n",
        "    '''\n",
        "    Factors are a generalisation of discrete probability distributions over one or more random variables.\n",
        "    Each variable must have a name (which may be a string or integer).\n",
        "    The domain of the factor specifies which variables the factor operates over.\n",
        "    The outcomeSpace specifies the possible values of each random variable. \n",
        "    \n",
        "    \n",
        "    The probabilities are stored in a n-dimensional numpy array, using the domain and outcomeSpace\n",
        "    as dimension and row labels respectively.\n",
        "    '''\n",
        "    def __init__(self, domain, outcomeSpace, table=None):\n",
        "        '''\n",
        "        Inititalise a factor with a given domain and outcomeSpace. \n",
        "        All probabilities are set to zero by default.\n",
        "        '''\n",
        "        self.domain = tuple(domain) # tuple of variable names, each of which may be a string or integer.\n",
        "        \n",
        "        # Initialise the outcomeSpace, which is provided as a dictionary.\n",
        "        self.outcomeSpace = copy.copy(outcomeSpace)\n",
        "\n",
        "        if table is None:\n",
        "            # By default, intitialize with a uniform distribution\n",
        "            self.table = np.ones(shape=tuple(len(outcomeSpace[var]) for var in self.domain))\n",
        "            self.table = self.table/np.sum(self.table)\n",
        "        else:\n",
        "            self.table = table.copy()        \n",
        "    \n",
        "    def __getitem__(self, outcomes):\n",
        "        '''\n",
        "        This function allows direct access to individual probabilities.\n",
        "        E.g. if the factor represents a joint distribution over variables 'A','B','C','D', each with outcomeSpace [0,1,2],\n",
        "        then `factor[0,1,0,2]` will return the probability that the four variables are set to 0,1,0,2 respectively.\n",
        "        \n",
        "        The outcomes used for indexing may also be strings. If in the example above the outcomeSpace of each variable is\n",
        "        ['true','false'], then `factor['true','false','true','true']` will return the probability that \n",
        "        A='true', B='false', C='true' and D='true'. \n",
        "        \n",
        "        The order of the indices is determined by the order of the variables in self.domain.\n",
        "        '''\n",
        "        \n",
        "        # check if only a single index was used.\n",
        "        if not isinstance(outcomes, tuple):\n",
        "            outcomes = (outcomes,)\n",
        "            \n",
        "        assert(len(outcomes) == len(self.domain)) # confirm there is a correct number of indicies\n",
        "        \n",
        "        # convert outcomes into array indices\n",
        "        indices = tuple(self.outcomeSpace[var].index(outcomes[i]) for i, var in enumerate(self.domain))\n",
        "        return self.table[indices]\n",
        "    \n",
        "    def __setitem__(self, outcomes, new_value):\n",
        "        '''\n",
        "        This function is called when setting a probability. E.g. `factor[0,1,0,2] = 0.5`.        \n",
        "        '''\n",
        "        if not isinstance(outcomes, tuple):\n",
        "            outcomes = (outcomes,)\n",
        "        indices = tuple(self.outcomeSpace[var].index(outcomes[i]) for i, var in enumerate(self.domain))\n",
        "        self.table[indices] = new_value\n",
        "        \n",
        "    def __str__(self):\n",
        "        pass\n",
        "    \n",
        "    def __mul__(self, other):\n",
        "        '''\n",
        "        Override the * operator, so that it can be used to join factors\n",
        "        '''\n",
        "        return self.join(other)     \n",
        "        \n",
        "    def join(self, other):\n",
        "        pass\n",
        "    \n",
        "    def evidence(self, **kwargs):\n",
        "        pass\n",
        "\n",
        "    def marginalize(self, var):\n",
        "        pass\n",
        "\n",
        "    def normalize(self):\n",
        "        pass\n",
        "    \n",
        "    def copy(self):\n",
        "        return copy.deepcopy(self)"
      ]
    },
    {
      "cell_type": "markdown",
      "metadata": {
        "id": "aXfBFR2w3RXS"
      },
      "source": [
        "For instance, we can define 3 random variables ($S$, $T$ and $W$) with the following possible outcomes."
      ]
    },
    {
      "cell_type": "code",
      "execution_count": 7,
      "metadata": {
        "id": "LnTAxsBe3RXT"
      },
      "outputs": [],
      "source": [
        "outcomeSpace = {\n",
        "                'S':('summer','winter'),\n",
        "                'T':('hot','cold'),\n",
        "                'W':('sun','rain'),\n",
        "               }"
      ]
    },
    {
      "cell_type": "markdown",
      "metadata": {
        "id": "4__bkRM73RXT"
      },
      "source": [
        "Now we can represent the table:\n",
        "\n",
        "| S      | P(S)   |\n",
        "|:------:|:------:|\n",
        "| summer | 0.5    |\n",
        "| winter | 0.5    |\n",
        "\n",
        "with:"
      ]
    },
    {
      "cell_type": "code",
      "execution_count": 8,
      "metadata": {
        "id": "DJMbDRbH3RXU"
      },
      "outputs": [],
      "source": [
        "s_prob = Factor(('S',), outcomeSpace)\n",
        "s_prob['summer'] = 0.5\n",
        "s_prob['winter'] = 0.5"
      ]
    },
    {
      "cell_type": "markdown",
      "metadata": {
        "id": "ygzmlzpy3RXU"
      },
      "source": [
        "Likewise, the table\n",
        "\n",
        "|   S    | T    | P(T&#124;S)    |\n",
        "|:------:|:----:|:---------:|\n",
        "| summer |  hot | 0.7       |\n",
        "| summer | cold | 0.3       |\n",
        "| winter | hot  | 0.3       |\n",
        "| winter | cold | 0.7       |\n",
        "\n",
        "is represented as:"
      ]
    },
    {
      "cell_type": "code",
      "execution_count": 9,
      "metadata": {
        "id": "qXyLaSiK3RXV"
      },
      "outputs": [],
      "source": [
        "t_prob = Factor(('S','T'), outcomeSpace)\n",
        "t_prob['summer','hot']  = 0.7\n",
        "t_prob['summer','cold'] = 0.3\n",
        "t_prob['winter','hot']  = 0.3\n",
        "t_prob['winter','cold'] = 0.7"
      ]
    },
    {
      "cell_type": "markdown",
      "metadata": {
        "id": "eWCM4nW23RXV"
      },
      "source": [
        "### Exercise\n",
        "\n",
        "It is your turn, represent the table:\n",
        "\n",
        "|  S     |  T   |  W   | P(W&#124;S,T)   |\n",
        "|:------:|:----:|:----:|:----------:|\n",
        "| summer |  hot |  sun |   0.86     |\n",
        "| summer |  hot | rain |   0.14     |\n",
        "| summer | cold |  sun |   0.67     |\n",
        "| summer | cold | rain |   0.33     |\n",
        "| winter |  hot |  sun |   0.67     |\n",
        "| winter |  hot | rain |   0.33     |\n",
        "| winter | cold |  sun |   0.43     |\n",
        "| winter | cold | rain |   0.57     |\n"
      ]
    },
    {
      "cell_type": "code",
      "execution_count": 10,
      "metadata": {
        "id": "48sBw3Ey3RXV"
      },
      "outputs": [],
      "source": [
        "w_prob = Factor(('S', 'T', 'W'), outcomeSpace)\n",
        "w_prob['summer', 'hot', 'sun'] = 0.86\n",
        "w_prob['summer', 'hot', 'rain'] = 0.14\n",
        "w_prob['summer', 'cold', 'sun'] = 0.67\n",
        "w_prob['summer', 'cold', 'rain'] = 0.33\n",
        "w_prob['winter', 'hot', 'sun'] = 0.67\n",
        "w_prob['winter', 'hot', 'rain'] = 0.33\n",
        "w_prob['winter', 'cold', 'sun'] = 0.43\n",
        "w_prob['winter', 'cold', 'rain'] = 0.57"
      ]
    },
    {
      "cell_type": "markdown",
      "metadata": {
        "id": "yzkMlWsC3RXW"
      },
      "source": [
        "Notice that the variables domain do not need to be restricted to two values. We can specify larger domains with more values. Often integers will be used to reduce the typing needed."
      ]
    },
    {
      "cell_type": "markdown",
      "metadata": {
        "id": "D_lkdeVz3RXW"
      },
      "source": [
        "We need to implement four basic operations over factors:\n",
        "    \n",
        "1. Factor join: given two factors $f_1$ and $f_2$ with at least one variable in common, join these factors, creating a new factor $f$. The domain of the new factor has all variables in $dom(f_1) \\cup dom(f_2)$.\n",
        "\n",
        "2. Factor marginalization: given a factor $f$ eliminate one variable $v \\in dom(f)$ by summing over all values of $v$.\n",
        "\n",
        "3. Evidence observation: given a variable $X$ and a value $x$, set the evidence $X=x$. This means that the variable $X$ has been observed as having the value $x$. Consequently, the join and marginalization operations will restrict themselves to $x$ and ignore the remaining values of $X$.\n",
        "\n",
        "4. Factor normalization: normalize the entries in a given factor so that all entries sum up to one."
      ]
    },
    {
      "cell_type": "markdown",
      "metadata": {
        "id": "KvDN5ZZ-3RXW"
      },
      "source": [
        "Before we start, let's define a function to print out factors nicely to the screen. This function will help us to debug our code. For this task, we will use the [tabulate library](https://pypi.org/project/tabulate/) and the [product iterator provided by itertools](https://docs.python.org/2/library/itertools.html).\n",
        "\n",
        "We will use the special method `__str__` to write this function, which will make it easy to print out a factor `f` using `print(f)`. You can read the documentation for special methods like this [here](https://docs.python.org/3/reference/datamodel.html#special-method-names)."
      ]
    },
    {
      "cell_type": "code",
      "execution_count": 11,
      "metadata": {
        "colab": {
          "base_uri": "https://localhost:8080/"
        },
        "id": "OI2Cf1pG3RXW",
        "outputId": "29f5b1f4-a2ee-4da7-efd8-1b437aecc2d2"
      },
      "outputs": [
        {
          "output_type": "stream",
          "name": "stdout",
          "text": [
            "╒════════╤══════╤══════╤══════╕\n",
            "│ S      │ T    │ W    │   Pr │\n",
            "╞════════╪══════╪══════╪══════╡\n",
            "│ summer │ hot  │ sun  │ 0.86 │\n",
            "├────────┼──────┼──────┼──────┤\n",
            "│ summer │ hot  │ rain │ 0.14 │\n",
            "├────────┼──────┼──────┼──────┤\n",
            "│ summer │ cold │ sun  │ 0.67 │\n",
            "├────────┼──────┼──────┼──────┤\n",
            "│ summer │ cold │ rain │ 0.33 │\n",
            "├────────┼──────┼──────┼──────┤\n",
            "│ winter │ hot  │ sun  │ 0.67 │\n",
            "├────────┼──────┼──────┼──────┤\n",
            "│ winter │ hot  │ rain │ 0.33 │\n",
            "├────────┼──────┼──────┼──────┤\n",
            "│ winter │ cold │ sun  │ 0.43 │\n",
            "├────────┼──────┼──────┼──────┤\n",
            "│ winter │ cold │ rain │ 0.57 │\n",
            "╘════════╧══════╧══════╧══════╛\n",
            "\n"
          ]
        }
      ],
      "source": [
        "def __str__(self):\n",
        "    '''\n",
        "    This function determines the string representation of an object.\n",
        "    In this case, the function prints out a row for every possible instantiation \n",
        "    of the factor, along with the associated probability.\n",
        "    This function will be called whenever you print out this object, i.e.\n",
        "    a_prob = Factor(...)\n",
        "    print(a_prob)\n",
        "    '''\n",
        "    table = []\n",
        "    outcomeSpaces = [self.outcomeSpace[var] for var in self.domain]\n",
        "    for key in product(*outcomeSpaces):\n",
        "        row = list(key)\n",
        "        row.append(self[key])\n",
        "        table.append(row)\n",
        "    header = list(self.domain) + ['Pr']\n",
        "    return tabulate(table, headers=header, tablefmt='fancy_grid') + '\\n'\n",
        "\n",
        "# The following line is one way of defining a method outside of the class definition.\n",
        "# Usually we would put this function inside the Factor class definition\n",
        "Factor.__str__ = __str__ \n",
        "\n",
        "# Testing\n",
        "print(w_prob)"
      ]
    },
    {
      "cell_type": "markdown",
      "metadata": {
        "id": "7kpXe8Y-3RXW"
      },
      "source": [
        "\n",
        "### Exercise\n",
        "\n",
        "Print out the probability in the `w_prob` table corresponding to the row \"summer\", \"cold\", \"rain\"."
      ]
    },
    {
      "cell_type": "code",
      "execution_count": 12,
      "metadata": {
        "colab": {
          "base_uri": "https://localhost:8080/"
        },
        "id": "pnhZuxzf3RXX",
        "outputId": "afb3376a-b5a6-41c2-bc00-4b56f2e9cb9d"
      },
      "outputs": [
        {
          "output_type": "stream",
          "name": "stdout",
          "text": [
            "0.33\n"
          ]
        }
      ],
      "source": [
        "print(w_prob[\"summer\", \"cold\", \"rain\"])"
      ]
    },
    {
      "cell_type": "markdown",
      "metadata": {
        "id": "6ffQC3MU3RXX"
      },
      "source": [
        "If you implemented the call correctly, you should see the following output:\n",
        "\n",
        "```\n",
        "0.33\n",
        "```"
      ]
    },
    {
      "cell_type": "markdown",
      "metadata": {
        "id": "_Nt-YVsF3RXX"
      },
      "source": [
        "## Observing Evidence\n",
        "\n",
        "Observing a value $x$ for a variable $X$ means that every row in the table that doesn't contain $x$ should have probability 0. We can also implement this by removing all those rows from the table.\n",
        "\n",
        "Implementing this function by removing all unnecessary rows is a little more efficient for some applications, but requires selecting the right portion of the n-dimensional numpy array using advanced numpy *slicing*. See [here](https://numpy.org/doc/stable/reference/arrays.indexing.html) for more information on slicing, or see the next cell for an example.\n"
      ]
    },
    {
      "cell_type": "code",
      "execution_count": 13,
      "metadata": {
        "colab": {
          "base_uri": "https://localhost:8080/"
        },
        "id": "mRKoDERy3RXX",
        "outputId": "5361a65a-0d9a-4a00-a220-3d756708930d"
      },
      "outputs": [
        {
          "output_type": "stream",
          "name": "stdout",
          "text": [
            "[[0.2  0.1  0.1 ]\n",
            " [0.05 0.15 0.5 ]]\n",
            "\n",
            "First method:\n",
            "[[0.2 ]\n",
            " [0.05]]\n",
            "Second method\n",
            "[[0.2 ]\n",
            " [0.05]]\n"
          ]
        }
      ],
      "source": [
        "# We have the following table of shape (2,3).\n",
        "# We want to select the just the first column, which corresponds \n",
        "# to the first outcome of the second variable.\n",
        "# The new shape will be (2,1)\n",
        "table = np.array([[0.20,0.10,0.1],\n",
        "                  [0.05,0.15,0.50]])\n",
        "print(table)\n",
        "print()\n",
        "\n",
        "# The usual way to do this is:\n",
        "print(\"First method:\")\n",
        "new_table = table[:,0:1]\n",
        "print(new_table)\n",
        "\n",
        "# Another (equivalent) way of doing it, which makes it easier to \n",
        "# generate a slice programmatically\n",
        "print(\"Second method\")\n",
        "slice_tuple = (slice(None),slice(0,1))\n",
        "new_table = table[slice_tuple]\n",
        "print(new_table)"
      ]
    },
    {
      "cell_type": "markdown",
      "metadata": {
        "id": "i7PYYCTJ3RXY"
      },
      "source": [
        "### Exercise\n",
        "\n",
        "It is your turn, use what you've learned about slicing to implement the evidence function."
      ]
    },
    {
      "cell_type": "code",
      "execution_count": 14,
      "metadata": {
        "colab": {
          "base_uri": "https://localhost:8080/"
        },
        "id": "HpSVQBc73RXY",
        "outputId": "edd056fd-8e95-43a4-8835-4fa80d1cbd1f"
      },
      "outputs": [
        {
          "output_type": "stream",
          "name": "stdout",
          "text": [
            "╒════════╤══════╤══════╤══════╕\n",
            "│ S      │ T    │ W    │   Pr │\n",
            "╞════════╪══════╪══════╪══════╡\n",
            "│ summer │ hot  │ sun  │ 0.86 │\n",
            "├────────┼──────┼──────┼──────┤\n",
            "│ summer │ hot  │ rain │ 0.14 │\n",
            "├────────┼──────┼──────┼──────┤\n",
            "│ summer │ cold │ sun  │ 0.67 │\n",
            "├────────┼──────┼──────┼──────┤\n",
            "│ summer │ cold │ rain │ 0.33 │\n",
            "╘════════╧══════╧══════╧══════╛\n",
            "\n",
            "╒════════╤══════╤══════╤══════╕\n",
            "│ S      │ T    │ W    │   Pr │\n",
            "╞════════╪══════╪══════╪══════╡\n",
            "│ summer │ cold │ sun  │ 0.67 │\n",
            "├────────┼──────┼──────┼──────┤\n",
            "│ summer │ cold │ rain │ 0.33 │\n",
            "├────────┼──────┼──────┼──────┤\n",
            "│ winter │ cold │ sun  │ 0.43 │\n",
            "├────────┼──────┼──────┼──────┤\n",
            "│ winter │ cold │ rain │ 0.57 │\n",
            "╘════════╧══════╧══════╧══════╛\n",
            "\n",
            "╒════════╤═════╤══════╤══════╕\n",
            "│ S      │ T   │ W    │   Pr │\n",
            "╞════════╪═════╪══════╪══════╡\n",
            "│ summer │ hot │ rain │ 0.14 │\n",
            "├────────┼─────┼──────┼──────┤\n",
            "│ winter │ hot │ rain │ 0.33 │\n",
            "╘════════╧═════╧══════╧══════╛\n",
            "\n"
          ]
        }
      ],
      "source": [
        "def evidence(self, **kwargs):\n",
        "    '''\n",
        "    Sets evidence by modifying the outcomeSpace\n",
        "    This function must be used to set evidence on all factors before joining,\n",
        "    because it removes the irrelevant values from the factor. \n",
        "\n",
        "    Usage: fac.evidence(A='true',B='false')\n",
        "    This returns a factor which has set the variable 'A' to 'true' and 'B' to 'false'.\n",
        "    '''\n",
        "    f = self.copy()\n",
        "    evidence_dict = kwargs\n",
        "    for var, value in evidence_dict.items():\n",
        "        if var in f.domain:\n",
        "\n",
        "            # find the row index that corresponds to var = value (use f.outcomeSpace)\n",
        "            idx = 0\n",
        "            for i, val in enumerate(f.outcomeSpace[var]):\n",
        "              if val == value:\n",
        "                idx = i\n",
        "            \n",
        "            # create a tuple of \"slice\" objects, all of them `slice(None)` except\n",
        "            # for the one corresponding to the `var` axis.\n",
        "            slice_tuple = tuple(slice(idx,idx+1) if v == var else slice(None) for v in f.domain)\n",
        "\n",
        "            # use the tuple to select the required section of f.table\n",
        "            f.table = f.table[slice_tuple]\n",
        "\n",
        "            # modify the outcomeSpace to correspond to the changes just made to self.table\n",
        "            f.outcomeSpace[var] = (value,)\n",
        "    return f\n",
        "\n",
        "Factor.evidence = evidence # add the method to the factor class\n",
        "\n",
        "#####################################\n",
        "# Test code\n",
        "#####################################\n",
        "\n",
        "print(w_prob.evidence(S='summer'))\n",
        "print(w_prob.evidence(T='cold'))\n",
        "print(w_prob.evidence(W='rain',T='hot'))"
      ]
    },
    {
      "cell_type": "markdown",
      "metadata": {
        "id": "ImNAMGp23RXY"
      },
      "source": [
        "If you implemented your code correctly, you should see the following output:\n",
        "\n",
        "```\n",
        "╒════════╤══════╤══════╤══════╕\n",
        "│ S      │ T    │ W    │   Pr │\n",
        "╞════════╪══════╪══════╪══════╡\n",
        "│ summer │ hot  │ sun  │ 0.86 │\n",
        "├────────┼──────┼──────┼──────┤\n",
        "│ summer │ hot  │ rain │ 0.14 │\n",
        "├────────┼──────┼──────┼──────┤\n",
        "│ summer │ cold │ sun  │ 0.67 │\n",
        "├────────┼──────┼──────┼──────┤\n",
        "│ summer │ cold │ rain │ 0.33 │\n",
        "╘════════╧══════╧══════╧══════╛\n",
        "\n",
        "╒════════╤══════╤══════╤══════╕\n",
        "│ S      │ T    │ W    │   Pr │\n",
        "╞════════╪══════╪══════╪══════╡\n",
        "│ summer │ cold │ sun  │ 0.67 │\n",
        "├────────┼──────┼──────┼──────┤\n",
        "│ summer │ cold │ rain │ 0.33 │\n",
        "├────────┼──────┼──────┼──────┤\n",
        "│ winter │ cold │ sun  │ 0.43 │\n",
        "├────────┼──────┼──────┼──────┤\n",
        "│ winter │ cold │ rain │ 0.57 │\n",
        "╘════════╧══════╧══════╧══════╛\n",
        "\n",
        "╒════════╤═════╤══════╤══════╕\n",
        "│ S      │ T   │ W    │   Pr │\n",
        "╞════════╪═════╪══════╪══════╡\n",
        "│ summer │ hot │ rain │ 0.14 │\n",
        "├────────┼─────┼──────┼──────┤\n",
        "│ winter │ hot │ rain │ 0.33 │\n",
        "╘════════╧═════╧══════╧══════╛\n",
        "\n",
        "```"
      ]
    },
    {
      "cell_type": "markdown",
      "metadata": {
        "id": "hSfLcWdf3RXY"
      },
      "source": [
        "## Factor Join Operation\n",
        "\n",
        "The central operation of inference is the factor multiplication or join. This operation will collapse two factors into a single factor. This operation should carefully match the values of the variables to provide the correct output.\n",
        "\n",
        "The following cell demonstrates how to join two probability tables representing factors $P(A)$ and $P(B|A)$ into $P(A,B)$. This code takes advantage of [numpy broadcasting](https://numpy.org/doc/stable/user/basics.broadcasting.html) when multiplying tables of different shapes. Make sure you understand how broadcasting work is working in the example below before trying the question."
      ]
    },
    {
      "cell_type": "code",
      "execution_count": 15,
      "metadata": {
        "colab": {
          "base_uri": "https://localhost:8080/"
        },
        "id": "pfPoB8nT3RXY",
        "outputId": "31dc8af6-08e1-4e39-d47c-6caf3015f3ff"
      },
      "outputs": [
        {
          "output_type": "stream",
          "name": "stdout",
          "text": [
            "P(A):\n",
            "[0.3 0.1 0.6]\n",
            "P(B|A):\n",
            "[[0.2 0.8]\n",
            " [0.1 0.9]\n",
            " [0.1 0.9]]\n",
            "Expanded P(A):\n",
            "[[0.3]\n",
            " [0.1]\n",
            " [0.6]]\n",
            "P(B,A):\n",
            "[[0.06 0.24]\n",
            " [0.01 0.09]\n",
            " [0.06 0.54]]\n"
          ]
        }
      ],
      "source": [
        "print(\"P(A):\")\n",
        "A_table = np.array([0.3,0.1,0.6]) # shape (3) domain: [A]\n",
        "print(A_table)\n",
        "\n",
        "print(\"P(B|A):\")\n",
        "B_given_A_table = np.array([[0.2, 0.8],\n",
        "                         [0.1, 0.9],\n",
        "                         [0.1, 0.9]]) # shape (3,2), domain: [A,B]\n",
        "print(B_given_A_table)\n",
        "\n",
        "# first, reshape A so that it has the same number and order of dimensions\n",
        "A_table = np.expand_dims(A_table,-1) # insert new axis in the last position\n",
        "# A_table now has shape (3,1) and domain [A, B]\n",
        "print(\"Expanded P(A):\")\n",
        "print(A_table)\n",
        "\n",
        "print(\"P(B,A):\")\n",
        "# We can multiply the two arrays elementwise\n",
        "print(A_table*B_given_A_table)"
      ]
    },
    {
      "cell_type": "markdown",
      "metadata": {
        "id": "Z-ogrEj93RXZ"
      },
      "source": [
        "### Exercise\n",
        "\n",
        "Let's implement the function join. We will provide most of the code for you. You will need to fill in a few gaps to complete the implementation."
      ]
    },
    {
      "cell_type": "code",
      "execution_count": 18,
      "metadata": {
        "colab": {
          "base_uri": "https://localhost:8080/"
        },
        "id": "IdFrqnNu3RXZ",
        "outputId": "728b3e2d-f268-4a21-8bd0-44fe60d8bf26"
      },
      "outputs": [
        {
          "output_type": "stream",
          "name": "stdout",
          "text": [
            "╒════════╤══════╤══════╕\n",
            "│ S      │ T    │   Pr │\n",
            "╞════════╪══════╪══════╡\n",
            "│ summer │ hot  │ 0.35 │\n",
            "├────────┼──────┼──────┤\n",
            "│ summer │ cold │ 0.15 │\n",
            "├────────┼──────┼──────┤\n",
            "│ winter │ hot  │ 0.15 │\n",
            "├────────┼──────┼──────┤\n",
            "│ winter │ cold │ 0.35 │\n",
            "╘════════╧══════╧══════╛\n",
            "\n",
            "╒════════╤══════╤══════╕\n",
            "│ S      │ T    │   Pr │\n",
            "╞════════╪══════╪══════╡\n",
            "│ summer │ hot  │ 0.35 │\n",
            "├────────┼──────┼──────┤\n",
            "│ summer │ cold │ 0.15 │\n",
            "╘════════╧══════╧══════╛\n",
            "\n",
            "╒════════╤══════╤══════╤═══════╕\n",
            "│ S      │ T    │ W    │    Pr │\n",
            "╞════════╪══════╪══════╪═══════╡\n",
            "│ summer │ hot  │ sun  │ 0.602 │\n",
            "├────────┼──────┼──────┼───────┤\n",
            "│ summer │ hot  │ rain │ 0.469 │\n",
            "├────────┼──────┼──────┼───────┤\n",
            "│ summer │ cold │ sun  │ 0.201 │\n",
            "├────────┼──────┼──────┼───────┤\n",
            "│ summer │ cold │ rain │ 0.129 │\n",
            "├────────┼──────┼──────┼───────┤\n",
            "│ winter │ hot  │ sun  │ 0.042 │\n",
            "├────────┼──────┼──────┼───────┤\n",
            "│ winter │ hot  │ rain │ 0.099 │\n",
            "├────────┼──────┼──────┼───────┤\n",
            "│ winter │ cold │ sun  │ 0.231 │\n",
            "├────────┼──────┼──────┼───────┤\n",
            "│ winter │ cold │ rain │ 0.399 │\n",
            "╘════════╧══════╧══════╧═══════╛\n",
            "\n",
            "╒════════╤══════╤══════╤═══════╕\n",
            "│ S      │ T    │ W    │    Pr │\n",
            "╞════════╪══════╪══════╪═══════╡\n",
            "│ summer │ hot  │ sun  │ 0.43  │\n",
            "├────────┼──────┼──────┼───────┤\n",
            "│ summer │ hot  │ rain │ 0.07  │\n",
            "├────────┼──────┼──────┼───────┤\n",
            "│ summer │ cold │ sun  │ 0.335 │\n",
            "├────────┼──────┼──────┼───────┤\n",
            "│ summer │ cold │ rain │ 0.165 │\n",
            "├────────┼──────┼──────┼───────┤\n",
            "│ winter │ hot  │ sun  │ 0.335 │\n",
            "├────────┼──────┼──────┼───────┤\n",
            "│ winter │ hot  │ rain │ 0.165 │\n",
            "├────────┼──────┼──────┼───────┤\n",
            "│ winter │ cold │ sun  │ 0.215 │\n",
            "├────────┼──────┼──────┼───────┤\n",
            "│ winter │ cold │ rain │ 0.285 │\n",
            "╘════════╧══════╧══════╧═══════╛\n",
            "\n"
          ]
        }
      ],
      "source": [
        "def join(self, other):\n",
        "    '''\n",
        "    This function multiplies two factors: one in this object and the factor in `other`\n",
        "    \n",
        "    Usage: A.join(B)\n",
        "    This returns a factor which has the join (multiplication) of A and B.\n",
        "    '''\n",
        "    # confirm that any shared variables have the same outcomeSpace\n",
        "    for var in set(other.domain).intersection(set(self.domain)):\n",
        "        if self.outcomeSpace[var] != other.outcomeSpace[var]:\n",
        "            raise IndexError('Incompatible outcomeSpaces. Make sure you set the same evidence on all factors')\n",
        "\n",
        "    # extend current domain with any new variables required\n",
        "    new_dom = list(self.domain) + list(set(other.domain) - set(self.domain)) \n",
        "\n",
        "    self_t = self.table\n",
        "    other_t = other.table\n",
        "    \n",
        "    # to prepare for multiplying arrays, we need to make sure both arrays have the correct number of axes\n",
        "    # We will do this by adding axes to the end of the shape of each array.\n",
        "    num_new_axes = len(set(other.domain) - set(self.domain))\n",
        "    for i in range(num_new_axes):\n",
        "        # add an axis to self_t. E.g. if shape is [3,5], new shape will be [3,5,1]\n",
        "        self_t = np.expand_dims(self_t, -1)\n",
        "\n",
        "    num_new_axes = len(set(self.domain) - set(other.domain))\n",
        "    for i in range(num_new_axes):\n",
        "        # add an axis to other_t. E.g. if shape is [3,5], new shape will be [3,5,1]\n",
        "        other_t = np.expand_dims(other_t, -1)\n",
        "\n",
        "    # And we need the new axes to be transposed to the correct location\n",
        "    old_order = list(other.domain) + list(set(self.domain) - set(other.domain)) \n",
        "    new_order = []\n",
        "    for v in new_dom:\n",
        "        new_order.append(old_order.index(v))\n",
        "    other_t = other_t.T # TODO reorder the axes of other_t to new_order (look up np.transpose)\n",
        "\n",
        "    # Now that the arrays are all set up, we can rely on numpy broadcasting to work out which numbers need to be multiplied.\n",
        "    # https://numpy.org/doc/stable/user/basics.broadcasting.html\n",
        "    new_table = other_t * self_t #TODO multiply the two arrays\n",
        "\n",
        "    # The final step is to create the new outcomeSpace\n",
        "    new_outcomeSpace = self.outcomeSpace.copy()\n",
        "    new_outcomeSpace.update(other.outcomeSpace)\n",
        "\n",
        "    # create a new factor out of the the new domain, outcomeSpace and table\n",
        "    # in the following line, `self.__class__` is the same as `Factor` (except it doesn't break things when subclassing)\n",
        "    return self.__class__(tuple(new_dom), new_outcomeSpace, table=new_table)\n",
        "\n",
        "Factor.join = join # add the method to the factor class\n",
        "\n",
        "#####################################\n",
        "# Test code\n",
        "#####################################\n",
        "\n",
        "# reorder the domain of t_prob to make sure it still works\n",
        "t_prob = Factor(('T','S'), outcomeSpace)\n",
        "t_prob['hot','summer']  = 0.7\n",
        "t_prob['cold','summer'] = 0.3\n",
        "t_prob['hot','winter']  = 0.3\n",
        "t_prob['cold','winter'] = 0.7\n",
        "\n",
        "print(s_prob.join(t_prob))\n",
        "s_prob_summer = s_prob.evidence(S='summer')\n",
        "t_prob_summer = t_prob.evidence(S='summer')\n",
        "print(s_prob_summer.join(t_prob_summer))\n",
        "\n",
        "# back to original order\n",
        "t_prob = Factor(('S','T'), outcomeSpace)\n",
        "t_prob['summer','hot']  = 0.7\n",
        "t_prob['summer','cold'] = 0.3\n",
        "t_prob['winter','hot']  = 0.3\n",
        "t_prob['winter','cold'] = 0.7\n",
        "\n",
        "print(t_prob.join(w_prob))\n",
        "print(w_prob.join(s_prob))"
      ]
    },
    {
      "cell_type": "markdown",
      "metadata": {
        "id": "0AILf5C-3RXZ"
      },
      "source": [
        "If you implemented the join operation correctly, you should see the following output:\n",
        "\n",
        "```\n",
        "╒════════╤══════╤══════╕\n",
        "│ S      │ T    │   Pr │\n",
        "╞════════╪══════╪══════╡\n",
        "│ summer │ hot  │ 0.35 │\n",
        "├────────┼──────┼──────┤\n",
        "│ summer │ cold │ 0.15 │\n",
        "├────────┼──────┼──────┤\n",
        "│ winter │ hot  │ 0.15 │\n",
        "├────────┼──────┼──────┤\n",
        "│ winter │ cold │ 0.35 │\n",
        "╘════════╧══════╧══════╛\n",
        "\n",
        "╒════════╤══════╤══════╕\n",
        "│ S      │ T    │   Pr │\n",
        "╞════════╪══════╪══════╡\n",
        "│ summer │ hot  │ 0.35 │\n",
        "├────────┼──────┼──────┤\n",
        "│ summer │ cold │ 0.15 │\n",
        "╘════════╧══════╧══════╛\n",
        "\n",
        "╒════════╤══════╤══════╤═══════╕\n",
        "│ S      │ T    │ W    │    Pr │\n",
        "╞════════╪══════╪══════╪═══════╡\n",
        "│ summer │ hot  │ sun  │ 0.602 │\n",
        "├────────┼──────┼──────┼───────┤\n",
        "│ summer │ hot  │ rain │ 0.098 │\n",
        "├────────┼──────┼──────┼───────┤\n",
        "│ summer │ cold │ sun  │ 0.201 │\n",
        "├────────┼──────┼──────┼───────┤\n",
        "│ summer │ cold │ rain │ 0.099 │\n",
        "├────────┼──────┼──────┼───────┤\n",
        "│ winter │ hot  │ sun  │ 0.201 │\n",
        "├────────┼──────┼──────┼───────┤\n",
        "│ winter │ hot  │ rain │ 0.099 │\n",
        "├────────┼──────┼──────┼───────┤\n",
        "│ winter │ cold │ sun  │ 0.301 │\n",
        "├────────┼──────┼──────┼───────┤\n",
        "│ winter │ cold │ rain │ 0.399 │\n",
        "╘════════╧══════╧══════╧═══════╛\n",
        "\n",
        "╒════════╤══════╤══════╤═══════╕\n",
        "│ S      │ T    │ W    │    Pr │\n",
        "╞════════╪══════╪══════╪═══════╡\n",
        "│ summer │ hot  │ sun  │ 0.43  │\n",
        "├────────┼──────┼──────┼───────┤\n",
        "│ summer │ hot  │ rain │ 0.07  │\n",
        "├────────┼──────┼──────┼───────┤\n",
        "│ summer │ cold │ sun  │ 0.335 │\n",
        "├────────┼──────┼──────┼───────┤\n",
        "│ summer │ cold │ rain │ 0.165 │\n",
        "├────────┼──────┼──────┼───────┤\n",
        "│ winter │ hot  │ sun  │ 0.335 │\n",
        "├────────┼──────┼──────┼───────┤\n",
        "│ winter │ hot  │ rain │ 0.165 │\n",
        "├────────┼──────┼──────┼───────┤\n",
        "│ winter │ cold │ sun  │ 0.215 │\n",
        "├────────┼──────┼──────┼───────┤\n",
        "│ winter │ cold │ rain │ 0.285 │\n",
        "╘════════╧══════╧══════╧═══════╛\n",
        "\n",
        "```"
      ]
    },
    {
      "cell_type": "markdown",
      "metadata": {
        "id": "nHHEbIjX3RXa"
      },
      "source": [
        "## Factor Marginalization Operation\n",
        "\n",
        "Marginalization is the operation that eliminates a given variable $X$ from a factor $f$ by summing over all possible values of $X$ in $f$. The marginalize function will return a new factor $f'$ to avoid messing with existing factors. The new factor $f'$ will have the same domain as $f$, but with the elimination of the variable $X$ $(dom(f') = dom(f) - \\{X\\})$.\n",
        "\n",
        "In discrete probability distributions, we marginalize out a variable by summing over all the outcomes of that variable.\n",
        "\n",
        "### Exercise\n",
        "\n",
        "Let's implement the marginalize function. We will provide most of the code, and you will fill in a few gaps."
      ]
    },
    {
      "cell_type": "code",
      "execution_count": 19,
      "metadata": {
        "colab": {
          "base_uri": "https://localhost:8080/"
        },
        "id": "s8ayBXIe3RXa",
        "outputId": "a1009ea4-9e6b-4452-e807-204a206e2d9c"
      },
      "outputs": [
        {
          "output_type": "stream",
          "name": "stdout",
          "text": [
            "╒══════╤══════╕\n",
            "│ T    │   Pr │\n",
            "╞══════╪══════╡\n",
            "│ hot  │  0.5 │\n",
            "├──────┼──────┤\n",
            "│ cold │  0.5 │\n",
            "╘══════╧══════╛\n",
            "\n"
          ]
        }
      ],
      "source": [
        "def marginalize(self, var):\n",
        "    '''\n",
        "    This function removes a variable from the domain, and sums over that variable in the table\n",
        "    \n",
        "    Usage: fac.marginalize('A')\n",
        "    This returns a factor in which variable A is marginalized (summed out).\n",
        "    '''\n",
        "\n",
        "    # create new domain\n",
        "    new_dom = list(self.domain)\n",
        "    new_dom.remove(var)\n",
        "\n",
        "    # remove an axis of the table by summing it out\n",
        "    axis = self.domain.index(var) # TODO work out which axis to sum over\n",
        "    new_table = self.table.sum(axis=axis) # TODO sum over that axis\n",
        "\n",
        "    # in the following line, `self.__class__` is the same as `Factor` (except it doesn't break things when subclassing)\n",
        "    return self.__class__(tuple(new_dom),self.outcomeSpace, new_table)\n",
        "\n",
        "Factor.marginalize = marginalize # add the method to the factor class\n",
        "\n",
        "#####################################\n",
        "# Test code\n",
        "#####################################\n",
        "\n",
        "t_s_joint_prob = s_prob.join(t_prob)\n",
        "f = t_s_joint_prob.marginalize('S')\n",
        "print(f)"
      ]
    },
    {
      "cell_type": "markdown",
      "metadata": {
        "id": "T1WWxoSw3RXa"
      },
      "source": [
        "If you implemented the join operation correctly, you should see the following output:\n",
        "\n",
        "```\n",
        "╒══════╤══════╕\n",
        "│ T    │   Pr │\n",
        "╞══════╪══════╡\n",
        "│ hot  │  0.5 │\n",
        "├──────┼──────┤\n",
        "│ cold │  0.5 │\n",
        "╘══════╧══════╛\n",
        "\n",
        "```"
      ]
    },
    {
      "cell_type": "markdown",
      "metadata": {
        "id": "KXF7n0tt3RXa"
      },
      "source": [
        "## Factor Normalization Operation\n",
        "\n",
        "Factor normalization is useful when we make inference using evidence, since the resulting factor may not sum to one. To renormalize the factor to make it represent a probability distribution. Normalization is a simple, operation: we need to sum over all entries resulting in the value $Z$, and divide each factor entry by $Z$.\n",
        "\n",
        "### Exercise\n",
        "\n",
        "It is your turn. This time you will code the normalization function entirely. We have provided a stub for you."
      ]
    },
    {
      "cell_type": "code",
      "execution_count": 25,
      "metadata": {
        "colab": {
          "base_uri": "https://localhost:8080/"
        },
        "id": "MQFJGBTz3RXb",
        "outputId": "87c479ce-8320-49b1-e899-78eb16fc7f77"
      },
      "outputs": [
        {
          "output_type": "stream",
          "name": "stdout",
          "text": [
            "╒════════╤══════╤══════╤═══════════╕\n",
            "│ S      │ T    │ W    │        Pr │\n",
            "╞════════╪══════╪══════╪═══════════╡\n",
            "│ summer │ hot  │ rain │ 0.0715328 │\n",
            "├────────┼──────┼──────┼───────────┤\n",
            "│ summer │ cold │ rain │ 0.0722628 │\n",
            "├────────┼──────┼──────┼───────────┤\n",
            "│ winter │ hot  │ rain │ 0.0306569 │\n",
            "├────────┼──────┼──────┼───────────┤\n",
            "│ winter │ cold │ rain │ 0.168613  │\n",
            "╘════════╧══════╧══════╧═══════════╛\n",
            "\n"
          ]
        }
      ],
      "source": [
        "def normalize(self):\n",
        "    '''\n",
        "    Normalise the factor so that all probabilities add up to 1\n",
        "    \n",
        "    Usage: fac.normalize()\n",
        "    This returns a normalized factor.\n",
        "    '''\n",
        "    self.table = self.table/np.sum(self.table) # TODO divide all elements of table by sum of every element\n",
        "    return self\n",
        "\n",
        "Factor.normalize = normalize\n",
        "\n",
        "#####################################\n",
        "# Test code\n",
        "#####################################\n",
        "\n",
        "w_prob_sun = w_prob.evidence(W='rain')\n",
        "\n",
        "t_s_joint_prob = s_prob.join(t_prob)\n",
        "t_s_w_joint_prob = t_s_joint_prob.join(w_prob_sun)\n",
        "print(t_s_w_joint_prob.normalize())"
      ]
    },
    {
      "cell_type": "markdown",
      "metadata": {
        "id": "7TikTKtK3RXb"
      },
      "source": [
        "The expected output for the normalize function in the test case is the following:\n",
        "\n",
        "```\n",
        "╒════════╤══════╤══════╤══════════╕\n",
        "│ S      │ T    │ W    │       Pr │\n",
        "╞════════╪══════╪══════╪══════════╡\n",
        "│ summer │ hot  │ rain │ 0.141007 │\n",
        "├────────┼──────┼──────┼──────────┤\n",
        "│ summer │ cold │ rain │ 0.142446 │\n",
        "├────────┼──────┼──────┼──────────┤\n",
        "│ winter │ hot  │ rain │ 0.142446 │\n",
        "├────────┼──────┼──────┼──────────┤\n",
        "│ winter │ cold │ rain │ 0.574101 │\n",
        "╘════════╧══════╧══════╧══════════╛\n",
        "\n",
        "```"
      ]
    },
    {
      "cell_type": "markdown",
      "metadata": {
        "id": "pavaRrx93RXb"
      },
      "source": [
        "We have reached the end of this tutorial. Now we have all the tools we need to start making inference on Graphical Models. Also, you can use this code to check the results of your calculations in the theory part of this tutorial. For instance, in **Question 6**, we asked for the joint probability table $P(T,S,W)$. We can calculate this with a single line of python code."
      ]
    },
    {
      "cell_type": "code",
      "execution_count": 26,
      "metadata": {
        "colab": {
          "base_uri": "https://localhost:8080/"
        },
        "id": "fLE-NZOd3RXb",
        "outputId": "0b44daf0-d107-47af-b6ab-92c59a47ab27"
      },
      "outputs": [
        {
          "output_type": "stream",
          "name": "stdout",
          "text": [
            "╒════════╤══════╤══════╤════════╕\n",
            "│ S      │ T    │ W    │     Pr │\n",
            "╞════════╪══════╪══════╪════════╡\n",
            "│ summer │ hot  │ sun  │ 0.301  │\n",
            "├────────┼──────┼──────┼────────┤\n",
            "│ summer │ hot  │ rain │ 0.2345 │\n",
            "├────────┼──────┼──────┼────────┤\n",
            "│ summer │ cold │ sun  │ 0.1005 │\n",
            "├────────┼──────┼──────┼────────┤\n",
            "│ summer │ cold │ rain │ 0.0645 │\n",
            "├────────┼──────┼──────┼────────┤\n",
            "│ winter │ hot  │ sun  │ 0.021  │\n",
            "├────────┼──────┼──────┼────────┤\n",
            "│ winter │ hot  │ rain │ 0.0495 │\n",
            "├────────┼──────┼──────┼────────┤\n",
            "│ winter │ cold │ sun  │ 0.1155 │\n",
            "├────────┼──────┼──────┼────────┤\n",
            "│ winter │ cold │ rain │ 0.1995 │\n",
            "╘════════╧══════╧══════╧════════╛\n",
            "\n"
          ]
        }
      ],
      "source": [
        "print(t_prob.join(s_prob).join(w_prob))"
      ]
    },
    {
      "cell_type": "code",
      "source": [],
      "metadata": {
        "id": "9u6VadreNGD3"
      },
      "execution_count": null,
      "outputs": []
    },
    {
      "cell_type": "markdown",
      "metadata": {
        "id": "xgRRjevU3RXb"
      },
      "source": [
        "Since we overrode the * operater using the `__mul__` function above, we can also do:"
      ]
    },
    {
      "cell_type": "code",
      "execution_count": 27,
      "metadata": {
        "colab": {
          "base_uri": "https://localhost:8080/"
        },
        "id": "Yu3bVaO_3RXc",
        "outputId": "caa16d69-ffff-4047-9766-23d31e280d61"
      },
      "outputs": [
        {
          "output_type": "stream",
          "name": "stdout",
          "text": [
            "╒════════╤══════╤══════╤════════╕\n",
            "│ S      │ T    │ W    │     Pr │\n",
            "╞════════╪══════╪══════╪════════╡\n",
            "│ summer │ hot  │ sun  │ 0.301  │\n",
            "├────────┼──────┼──────┼────────┤\n",
            "│ summer │ hot  │ rain │ 0.2345 │\n",
            "├────────┼──────┼──────┼────────┤\n",
            "│ summer │ cold │ sun  │ 0.1005 │\n",
            "├────────┼──────┼──────┼────────┤\n",
            "│ summer │ cold │ rain │ 0.0645 │\n",
            "├────────┼──────┼──────┼────────┤\n",
            "│ winter │ hot  │ sun  │ 0.021  │\n",
            "├────────┼──────┼──────┼────────┤\n",
            "│ winter │ hot  │ rain │ 0.0495 │\n",
            "├────────┼──────┼──────┼────────┤\n",
            "│ winter │ cold │ sun  │ 0.1155 │\n",
            "├────────┼──────┼──────┼────────┤\n",
            "│ winter │ cold │ rain │ 0.1995 │\n",
            "╘════════╧══════╧══════╧════════╛\n",
            "\n"
          ]
        }
      ],
      "source": [
        "print(t_prob*s_prob*w_prob)"
      ]
    },
    {
      "cell_type": "markdown",
      "metadata": {
        "id": "cYbo-Rgf3RXc"
      },
      "source": [
        "## Final Task\n",
        "\n",
        "Create a python file called `DiscreteFactors.py` containing the completed `Factor` class, and save it to your computer. It will be used in future tutorials."
      ]
    },
    {
      "cell_type": "code",
      "execution_count": null,
      "metadata": {
        "id": "cADAw3su3RXc"
      },
      "outputs": [],
      "source": []
    }
  ],
  "metadata": {
    "interpreter": {
      "hash": "31f2aee4e71d21fbe5cf8b01ff0e069b9275f58929596ceb00d14d90e3e16cd6"
    },
    "kernelspec": {
      "display_name": "Python 3 (ipykernel)",
      "language": "python",
      "name": "python3"
    },
    "language_info": {
      "codemirror_mode": {
        "name": "ipython",
        "version": 3
      },
      "file_extension": ".py",
      "mimetype": "text/x-python",
      "name": "python",
      "nbconvert_exporter": "python",
      "pygments_lexer": "ipython3",
      "version": "3.9.7"
    },
    "toc": {
      "colors": {
        "hover_highlight": "#DAA520",
        "navigate_num": "#000000",
        "navigate_text": "#333333",
        "running_highlight": "#FF0000",
        "selected_highlight": "#FFD700",
        "sidebar_border": "#EEEEEE",
        "wrapper_background": "#FFFFFF"
      },
      "moveMenuLeft": true,
      "nav_menu": {
        "height": "198px",
        "width": "252px"
      },
      "navigate_menu": true,
      "number_sections": true,
      "sideBar": true,
      "threshold": 4,
      "toc_cell": false,
      "toc_position": {
        "height": "625px",
        "left": "0px",
        "right": "1067.67px",
        "top": "107px",
        "width": "212px"
      },
      "toc_section_display": "block",
      "toc_window_display": true,
      "widenNotebook": false
    },
    "colab": {
      "provenance": []
    }
  },
  "nbformat": 4,
  "nbformat_minor": 0
}